{
 "cells": [
  {
   "cell_type": "markdown",
   "metadata": {},
   "source": [
    "### Importing Necessary Libraries"
   ]
  },
  {
   "cell_type": "code",
   "execution_count": 1,
   "metadata": {},
   "outputs": [],
   "source": [
    "from bs4 import BeautifulSoup\n",
    "import requests\n",
    "import pandas as pd\n",
    "import re\n",
    "from datetime import datetime"
   ]
  },
  {
   "cell_type": "markdown",
   "metadata": {},
   "source": [
    "### Specify path for exporting the results to a csv file"
   ]
  },
  {
   "cell_type": "code",
   "execution_count": 2,
   "metadata": {},
   "outputs": [],
   "source": [
    "export_path = \"/Users/alay/output.csv\" #Don't forget to add '.csv' at the end of the path"
   ]
  },
  {
   "cell_type": "markdown",
   "metadata": {},
   "source": [
    "### Helper functions to process and parse the data rows which will be scraped from the website"
   ]
  },
  {
   "cell_type": "markdown",
   "metadata": {},
   "source": [
    "#### This function takes in row data as argument, and processes one row at a time. For each row, it verifies if any of its launch was successful or not, and increments the orbital launch value in the result dataframe whenever it finds a successful launch"
   ]
  },
  {
   "cell_type": "code",
   "execution_count": 3,
   "metadata": {},
   "outputs": [],
   "source": [
    "def parseLaunches(start_row_index, rows, df):\n",
    "    i = start_row_index\n",
    "    while i<len(rows):\n",
    "        if(len(rows[i]) == len(columns_rocket*2)):\n",
    "            date = getLaunchDate(rows[i])\n",
    "            rowspan = int(rows[i].find('td')['rowspan'])\n",
    "            index = 1\n",
    "            while(index < rowspan and i < len(rows)):\n",
    "                i+=1\n",
    "                if(len(rows[i]) == len(columns_payload)*2):\n",
    "                    outcome = rows[i].find_all('td')[5].text\n",
    "                    outcome = outcome.strip().lower()\n",
    "                    if(outcome in success):\n",
    "                        df.loc[date] +=1\n",
    "                        break\n",
    "                index+=1\n",
    "            i+=1\n",
    "        else:\n",
    "            i+=1"
   ]
  },
  {
   "cell_type": "markdown",
   "metadata": {},
   "source": [
    "#### This is a helper function used in the above mentioned (parseLaunches()) function which takes in a row having date as argument, and returns the date in ISO 8601 format"
   ]
  },
  {
   "cell_type": "code",
   "execution_count": 4,
   "metadata": {},
   "outputs": [],
   "source": [
    "def getLaunchDate(row):\n",
    "    date = row.find('span').text\n",
    "    date = re.sub('[^0-9a-zA-Z]+', ' ', date)\n",
    "    date = date.split()[:2]\n",
    "    date = date[0] + \" \" + date[1] + \" 2019\"\n",
    "    date = datetime.strptime(date, '%d %B %Y')\n",
    "    date = datetime.strftime(date, '%Y-%m-%dT%H:%M:%S+%H:%M')\n",
    "    return(date)"
   ]
  },
  {
   "cell_type": "code",
   "execution_count": 5,
   "metadata": {},
   "outputs": [],
   "source": [
    "success = [\"successful\", \"operational\", \"en route\"] ### Storing the success messages in a success List"
   ]
  },
  {
   "cell_type": "markdown",
   "metadata": {},
   "source": [
    "### Creating an empty data frame having dates in requires ISO 8601 format as indices and values as attributes. The initial values for all rows will be set to 0."
   ]
  },
  {
   "cell_type": "code",
   "execution_count": 6,
   "metadata": {},
   "outputs": [
    {
     "data": {
      "text/plain": [
       "DatetimeIndex(['2019-01-01', '2019-01-02', '2019-01-03', '2019-01-04',\n",
       "               '2019-01-05', '2019-01-06', '2019-01-07', '2019-01-08',\n",
       "               '2019-01-09', '2019-01-10',\n",
       "               ...\n",
       "               '2019-12-22', '2019-12-23', '2019-12-24', '2019-12-25',\n",
       "               '2019-12-26', '2019-12-27', '2019-12-28', '2019-12-29',\n",
       "               '2019-12-30', '2019-12-31'],\n",
       "              dtype='datetime64[ns]', length=365, freq='D')"
      ]
     },
     "execution_count": 6,
     "metadata": {},
     "output_type": "execute_result"
    }
   ],
   "source": [
    "start_date = datetime.strptime('1 January 2019', '%d %B %Y')\n",
    "end_date = datetime.strptime('31 December 2019', '%d %B %Y')\n",
    "index = pd.date_range(start_date, end_date, freq='D')\n",
    "index"
   ]
  },
  {
   "cell_type": "code",
   "execution_count": 7,
   "metadata": {},
   "outputs": [
    {
     "data": {
      "text/html": [
       "<div>\n",
       "<style scoped>\n",
       "    .dataframe tbody tr th:only-of-type {\n",
       "        vertical-align: middle;\n",
       "    }\n",
       "\n",
       "    .dataframe tbody tr th {\n",
       "        vertical-align: top;\n",
       "    }\n",
       "\n",
       "    .dataframe thead th {\n",
       "        text-align: right;\n",
       "    }\n",
       "</style>\n",
       "<table border=\"1\" class=\"dataframe\">\n",
       "  <thead>\n",
       "    <tr style=\"text-align: right;\">\n",
       "      <th></th>\n",
       "      <th>value</th>\n",
       "    </tr>\n",
       "    <tr>\n",
       "      <th>date</th>\n",
       "      <th></th>\n",
       "    </tr>\n",
       "  </thead>\n",
       "  <tbody>\n",
       "    <tr>\n",
       "      <td>2019-01-01T00:00:00+00:00</td>\n",
       "      <td>0</td>\n",
       "    </tr>\n",
       "    <tr>\n",
       "      <td>2019-01-02T00:00:00+00:00</td>\n",
       "      <td>0</td>\n",
       "    </tr>\n",
       "    <tr>\n",
       "      <td>2019-01-03T00:00:00+00:00</td>\n",
       "      <td>0</td>\n",
       "    </tr>\n",
       "    <tr>\n",
       "      <td>2019-01-04T00:00:00+00:00</td>\n",
       "      <td>0</td>\n",
       "    </tr>\n",
       "    <tr>\n",
       "      <td>2019-01-05T00:00:00+00:00</td>\n",
       "      <td>0</td>\n",
       "    </tr>\n",
       "    <tr>\n",
       "      <td>...</td>\n",
       "      <td>...</td>\n",
       "    </tr>\n",
       "    <tr>\n",
       "      <td>2019-12-27T00:00:00+00:00</td>\n",
       "      <td>0</td>\n",
       "    </tr>\n",
       "    <tr>\n",
       "      <td>2019-12-28T00:00:00+00:00</td>\n",
       "      <td>0</td>\n",
       "    </tr>\n",
       "    <tr>\n",
       "      <td>2019-12-29T00:00:00+00:00</td>\n",
       "      <td>0</td>\n",
       "    </tr>\n",
       "    <tr>\n",
       "      <td>2019-12-30T00:00:00+00:00</td>\n",
       "      <td>0</td>\n",
       "    </tr>\n",
       "    <tr>\n",
       "      <td>2019-12-31T00:00:00+00:00</td>\n",
       "      <td>0</td>\n",
       "    </tr>\n",
       "  </tbody>\n",
       "</table>\n",
       "<p>365 rows × 1 columns</p>\n",
       "</div>"
      ],
      "text/plain": [
       "                           value\n",
       "date                            \n",
       "2019-01-01T00:00:00+00:00      0\n",
       "2019-01-02T00:00:00+00:00      0\n",
       "2019-01-03T00:00:00+00:00      0\n",
       "2019-01-04T00:00:00+00:00      0\n",
       "2019-01-05T00:00:00+00:00      0\n",
       "...                          ...\n",
       "2019-12-27T00:00:00+00:00      0\n",
       "2019-12-28T00:00:00+00:00      0\n",
       "2019-12-29T00:00:00+00:00      0\n",
       "2019-12-30T00:00:00+00:00      0\n",
       "2019-12-31T00:00:00+00:00      0\n",
       "\n",
       "[365 rows x 1 columns]"
      ]
     },
     "execution_count": 7,
     "metadata": {},
     "output_type": "execute_result"
    }
   ],
   "source": [
    "df = pd.DataFrame(index = index, columns = ['value'])\n",
    "df.index.names = ['date']\n",
    "df['value'] = 0\n",
    "df.index = df.index.map(lambda x: datetime.strftime(x, '%Y-%m-%dT%H:%M:%S+%H:%M'))\n",
    "df"
   ]
  },
  {
   "cell_type": "markdown",
   "metadata": {},
   "source": [
    "### Scraping Data From Source Website\n",
    "\n",
    "The general procedure to get data from websites is:\n",
    "\n",
    "1. Use requests to connect to a URL and get data from it\n",
    "2. Create a BeautifulSoup object\n",
    "3. Get attributes of the BeautifulSoup object (i.e. the HTML elements that we want)"
   ]
  },
  {
   "cell_type": "code",
   "execution_count": 8,
   "metadata": {},
   "outputs": [],
   "source": [
    "# getting HTML from Wikipedia Source Web Page\n",
    "url = \"https://en.wikipedia.org/wiki/2019_in_spaceflight#Orbital_launches\"\n",
    "response = requests.get(url)\n",
    "\n",
    "# create a BeautifulSoup object\n",
    "soup = BeautifulSoup(response.text, \"html.parser\")\n",
    "    \n",
    "print(soup.prettify())"
   ]
  },
  {
   "cell_type": "markdown",
   "metadata": {},
   "source": [
    "### Grabbing the Orbital Table which is of our primary interest"
   ]
  },
  {
   "cell_type": "code",
   "execution_count": 9,
   "metadata": {},
   "outputs": [],
   "source": [
    "table = soup.find('table', {'class':'wikitable'})\n",
    "print(table.prettify())"
   ]
  },
  {
   "cell_type": "code",
   "execution_count": 10,
   "metadata": {},
   "outputs": [
    {
     "name": "stdout",
     "output_type": "stream",
     "text": [
      "Column Names for Rocket:\n",
      "['Date and time (UTC)', 'Rocket', 'Flight number', 'Launch site', 'LSP']\n",
      "\n",
      "Column Names for Payload:\n",
      "['Payload  (⚀ = CubeSat)', 'Operator', 'Orbit', 'Function', 'Decay (UTC)', 'Outcome']\n",
      "\n",
      "Total number of entries in Table:\n",
      "425\n"
     ]
    }
   ],
   "source": [
    "rows = table.find_all('tr')\n",
    "\n",
    "columns_rocket =  [v.text.replace('\\n', '') for v in rows[0].find_all('th')]\n",
    "columns_payload = [v.text.replace('\\n', '') for v in rows[1].find_all('td')]\n",
    "\n",
    "print(\"Column Names for Rocket:\")\n",
    "print(columns_rocket)\n",
    "\n",
    "print(\"\")\n",
    "\n",
    "print(\"Column Names for Payload:\")\n",
    "print(columns_payload)\n",
    "\n",
    "print(\"\")\n",
    "\n",
    "print(\"Total number of entries in Table:\")\n",
    "print(len(rows))"
   ]
  },
  {
   "cell_type": "markdown",
   "metadata": {},
   "source": [
    "### Calling above defined helper functions to process rows and populate data frame"
   ]
  },
  {
   "cell_type": "code",
   "execution_count": 11,
   "metadata": {},
   "outputs": [],
   "source": [
    "# Since first two rows are header rows, hence we will start processing from 3rd row\n",
    "start_row_index=3\n",
    "parseLaunches(start_row_index, rows, df)"
   ]
  },
  {
   "cell_type": "markdown",
   "metadata": {},
   "source": [
    "### Resultant DataFrame"
   ]
  },
  {
   "cell_type": "code",
   "execution_count": 12,
   "metadata": {},
   "outputs": [
    {
     "data": {
      "text/html": [
       "<div>\n",
       "<style scoped>\n",
       "    .dataframe tbody tr th:only-of-type {\n",
       "        vertical-align: middle;\n",
       "    }\n",
       "\n",
       "    .dataframe tbody tr th {\n",
       "        vertical-align: top;\n",
       "    }\n",
       "\n",
       "    .dataframe thead th {\n",
       "        text-align: right;\n",
       "    }\n",
       "</style>\n",
       "<table border=\"1\" class=\"dataframe\">\n",
       "  <thead>\n",
       "    <tr style=\"text-align: right;\">\n",
       "      <th></th>\n",
       "      <th>value</th>\n",
       "    </tr>\n",
       "    <tr>\n",
       "      <th>date</th>\n",
       "      <th></th>\n",
       "    </tr>\n",
       "  </thead>\n",
       "  <tbody>\n",
       "    <tr>\n",
       "      <td>2019-01-01T00:00:00+00:00</td>\n",
       "      <td>0</td>\n",
       "    </tr>\n",
       "    <tr>\n",
       "      <td>2019-01-02T00:00:00+00:00</td>\n",
       "      <td>0</td>\n",
       "    </tr>\n",
       "    <tr>\n",
       "      <td>2019-01-03T00:00:00+00:00</td>\n",
       "      <td>0</td>\n",
       "    </tr>\n",
       "    <tr>\n",
       "      <td>2019-01-04T00:00:00+00:00</td>\n",
       "      <td>0</td>\n",
       "    </tr>\n",
       "    <tr>\n",
       "      <td>2019-01-05T00:00:00+00:00</td>\n",
       "      <td>0</td>\n",
       "    </tr>\n",
       "  </tbody>\n",
       "</table>\n",
       "</div>"
      ],
      "text/plain": [
       "                           value\n",
       "date                            \n",
       "2019-01-01T00:00:00+00:00      0\n",
       "2019-01-02T00:00:00+00:00      0\n",
       "2019-01-03T00:00:00+00:00      0\n",
       "2019-01-04T00:00:00+00:00      0\n",
       "2019-01-05T00:00:00+00:00      0"
      ]
     },
     "execution_count": 12,
     "metadata": {},
     "output_type": "execute_result"
    }
   ],
   "source": [
    "df.head()"
   ]
  },
  {
   "cell_type": "code",
   "execution_count": 13,
   "metadata": {
    "scrolled": true
   },
   "outputs": [
    {
     "data": {
      "text/html": [
       "<div>\n",
       "<style scoped>\n",
       "    .dataframe tbody tr th:only-of-type {\n",
       "        vertical-align: middle;\n",
       "    }\n",
       "\n",
       "    .dataframe tbody tr th {\n",
       "        vertical-align: top;\n",
       "    }\n",
       "\n",
       "    .dataframe thead th {\n",
       "        text-align: right;\n",
       "    }\n",
       "</style>\n",
       "<table border=\"1\" class=\"dataframe\">\n",
       "  <thead>\n",
       "    <tr style=\"text-align: right;\">\n",
       "      <th></th>\n",
       "      <th>value</th>\n",
       "    </tr>\n",
       "    <tr>\n",
       "      <th>date</th>\n",
       "      <th></th>\n",
       "    </tr>\n",
       "  </thead>\n",
       "  <tbody>\n",
       "    <tr>\n",
       "      <td>2019-01-10T00:00:00+00:00</td>\n",
       "      <td>1</td>\n",
       "    </tr>\n",
       "    <tr>\n",
       "      <td>2019-01-11T00:00:00+00:00</td>\n",
       "      <td>1</td>\n",
       "    </tr>\n",
       "    <tr>\n",
       "      <td>2019-01-18T00:00:00+00:00</td>\n",
       "      <td>1</td>\n",
       "    </tr>\n",
       "    <tr>\n",
       "      <td>2019-01-19T00:00:00+00:00</td>\n",
       "      <td>1</td>\n",
       "    </tr>\n",
       "    <tr>\n",
       "      <td>2019-01-21T00:00:00+00:00</td>\n",
       "      <td>1</td>\n",
       "    </tr>\n",
       "    <tr>\n",
       "      <td>...</td>\n",
       "      <td>...</td>\n",
       "    </tr>\n",
       "    <tr>\n",
       "      <td>2019-12-18T00:00:00+00:00</td>\n",
       "      <td>1</td>\n",
       "    </tr>\n",
       "    <tr>\n",
       "      <td>2019-12-20T00:00:00+00:00</td>\n",
       "      <td>1</td>\n",
       "    </tr>\n",
       "    <tr>\n",
       "      <td>2019-12-24T00:00:00+00:00</td>\n",
       "      <td>1</td>\n",
       "    </tr>\n",
       "    <tr>\n",
       "      <td>2019-12-26T00:00:00+00:00</td>\n",
       "      <td>1</td>\n",
       "    </tr>\n",
       "    <tr>\n",
       "      <td>2019-12-27T00:00:00+00:00</td>\n",
       "      <td>1</td>\n",
       "    </tr>\n",
       "  </tbody>\n",
       "</table>\n",
       "<p>80 rows × 1 columns</p>\n",
       "</div>"
      ],
      "text/plain": [
       "                           value\n",
       "date                            \n",
       "2019-01-10T00:00:00+00:00      1\n",
       "2019-01-11T00:00:00+00:00      1\n",
       "2019-01-18T00:00:00+00:00      1\n",
       "2019-01-19T00:00:00+00:00      1\n",
       "2019-01-21T00:00:00+00:00      1\n",
       "...                          ...\n",
       "2019-12-18T00:00:00+00:00      1\n",
       "2019-12-20T00:00:00+00:00      1\n",
       "2019-12-24T00:00:00+00:00      1\n",
       "2019-12-26T00:00:00+00:00      1\n",
       "2019-12-27T00:00:00+00:00      1\n",
       "\n",
       "[80 rows x 1 columns]"
      ]
     },
     "execution_count": 13,
     "metadata": {},
     "output_type": "execute_result"
    }
   ],
   "source": [
    "df[df['value'] > 0]"
   ]
  },
  {
   "cell_type": "code",
   "execution_count": null,
   "metadata": {},
   "outputs": [],
   "source": [
    "export_csv = df.to_csv(export_path, header=True)"
   ]
  }
 ],
 "metadata": {
  "kernelspec": {
   "display_name": "Python 3",
   "language": "python",
   "name": "python3"
  },
  "language_info": {
   "codemirror_mode": {
    "name": "ipython",
    "version": 3
   },
   "file_extension": ".py",
   "mimetype": "text/x-python",
   "name": "python",
   "nbconvert_exporter": "python",
   "pygments_lexer": "ipython3",
   "version": "3.7.4"
  }
 },
 "nbformat": 4,
 "nbformat_minor": 2
}
